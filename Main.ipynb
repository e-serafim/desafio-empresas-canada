{
 "cells": [
  {
   "cell_type": "markdown",
   "metadata": {},
   "source": [
    "# 1. Imports"
   ]
  },
  {
   "cell_type": "code",
   "execution_count": 46,
   "metadata": {},
   "outputs": [],
   "source": [
    "import pandas as pd\n",
    "\n",
    "from bertopic import BERTopic\n",
    "from sklearn.feature_extraction.text import CountVectorizer\n",
    "import re\n",
    "import nltk\n",
    "from unidecode import unidecode\n",
    "\n",
    "import seaborn as sns\n",
    "import matplotlib.pyplot as plt"
   ]
  },
  {
   "cell_type": "code",
   "execution_count": 47,
   "metadata": {},
   "outputs": [],
   "source": [
    "%matplotlib inline"
   ]
  },
  {
   "cell_type": "markdown",
   "metadata": {},
   "source": [
    "# 2. Leitura da base de dados"
   ]
  },
  {
   "cell_type": "code",
   "execution_count": 2,
   "metadata": {},
   "outputs": [],
   "source": [
    "df = pd.read_excel('Desafio_ciencia_de_dados.xlsm')"
   ]
  },
  {
   "cell_type": "code",
   "execution_count": 3,
   "metadata": {
    "scrolled": true
   },
   "outputs": [
    {
     "data": {
      "text/html": [
       "<div>\n",
       "<style scoped>\n",
       "    .dataframe tbody tr th:only-of-type {\n",
       "        vertical-align: middle;\n",
       "    }\n",
       "\n",
       "    .dataframe tbody tr th {\n",
       "        vertical-align: top;\n",
       "    }\n",
       "\n",
       "    .dataframe thead th {\n",
       "        text-align: right;\n",
       "    }\n",
       "</style>\n",
       "<table border=\"1\" class=\"dataframe\">\n",
       "  <thead>\n",
       "    <tr style=\"text-align: right;\">\n",
       "      <th></th>\n",
       "      <th>name</th>\n",
       "      <th>description</th>\n",
       "      <th>employees</th>\n",
       "      <th>total_funding</th>\n",
       "      <th>city</th>\n",
       "      <th>subcountry</th>\n",
       "      <th>lat</th>\n",
       "      <th>lng</th>\n",
       "    </tr>\n",
       "  </thead>\n",
       "  <tbody>\n",
       "    <tr>\n",
       "      <th>0</th>\n",
       "      <td>fitin</td>\n",
       "      <td>fitin is the latest fit tech platform that pro...</td>\n",
       "      <td>1</td>\n",
       "      <td>NaN</td>\n",
       "      <td>toronto</td>\n",
       "      <td>ontario</td>\n",
       "      <td>43.70011</td>\n",
       "      <td>-79.416300</td>\n",
       "    </tr>\n",
       "    <tr>\n",
       "      <th>1</th>\n",
       "      <td>quinditech</td>\n",
       "      <td>our services include independent &amp; collaborati...</td>\n",
       "      <td>10</td>\n",
       "      <td>NaN</td>\n",
       "      <td>montreal</td>\n",
       "      <td>quebec</td>\n",
       "      <td>45.50884</td>\n",
       "      <td>-73.587810</td>\n",
       "    </tr>\n",
       "    <tr>\n",
       "      <th>2</th>\n",
       "      <td>botfirst</td>\n",
       "      <td>chatlanding is a digital chatbot platform wher...</td>\n",
       "      <td>1</td>\n",
       "      <td>NaN</td>\n",
       "      <td>toronto</td>\n",
       "      <td>ontario</td>\n",
       "      <td>43.70011</td>\n",
       "      <td>-79.416300</td>\n",
       "    </tr>\n",
       "    <tr>\n",
       "      <th>3</th>\n",
       "      <td>bravver</td>\n",
       "      <td>ai-powered army of health professionals in you...</td>\n",
       "      <td>1</td>\n",
       "      <td>NaN</td>\n",
       "      <td>quebec</td>\n",
       "      <td>quebec</td>\n",
       "      <td>46.82596</td>\n",
       "      <td>-71.235223</td>\n",
       "    </tr>\n",
       "    <tr>\n",
       "      <th>4</th>\n",
       "      <td>stylify</td>\n",
       "      <td>stylify is a mobile platform that connects peo...</td>\n",
       "      <td>1</td>\n",
       "      <td>NaN</td>\n",
       "      <td>toronto</td>\n",
       "      <td>ontario</td>\n",
       "      <td>43.70011</td>\n",
       "      <td>-79.416300</td>\n",
       "    </tr>\n",
       "  </tbody>\n",
       "</table>\n",
       "</div>"
      ],
      "text/plain": [
       "         name                                        description  employees  \\\n",
       "0       fitin  fitin is the latest fit tech platform that pro...          1   \n",
       "1  quinditech  our services include independent & collaborati...         10   \n",
       "2    botfirst  chatlanding is a digital chatbot platform wher...          1   \n",
       "3     bravver  ai-powered army of health professionals in you...          1   \n",
       "4     stylify  stylify is a mobile platform that connects peo...          1   \n",
       "\n",
       "  total_funding      city subcountry       lat        lng  \n",
       "0           NaN   toronto    ontario  43.70011 -79.416300  \n",
       "1           NaN  montreal     quebec  45.50884 -73.587810  \n",
       "2           NaN   toronto    ontario  43.70011 -79.416300  \n",
       "3           NaN    quebec     quebec  46.82596 -71.235223  \n",
       "4           NaN   toronto    ontario  43.70011 -79.416300  "
      ]
     },
     "execution_count": 3,
     "metadata": {},
     "output_type": "execute_result"
    }
   ],
   "source": [
    "df.head()"
   ]
  },
  {
   "cell_type": "code",
   "execution_count": 4,
   "metadata": {},
   "outputs": [
    {
     "data": {
      "text/plain": [
       "(21292, 8)"
      ]
     },
     "execution_count": 4,
     "metadata": {},
     "output_type": "execute_result"
    }
   ],
   "source": [
    "df.shape"
   ]
  },
  {
   "cell_type": "markdown",
   "metadata": {},
   "source": [
    "# 3. Pre processamento"
   ]
  },
  {
   "cell_type": "markdown",
   "metadata": {},
   "source": [
    "## 3.1 Juntando nome da empresa com descrição"
   ]
  },
  {
   "cell_type": "code",
   "execution_count": 5,
   "metadata": {},
   "outputs": [],
   "source": [
    "df['name_description'] = df.apply(lambda row: str(row['name']) + ' ' + str(row['description']), axis=1)"
   ]
  },
  {
   "cell_type": "markdown",
   "metadata": {},
   "source": [
    "## 3.2 Retirando pontuações do texto"
   ]
  },
  {
   "cell_type": "code",
   "execution_count": 6,
   "metadata": {},
   "outputs": [],
   "source": [
    "pontuacao = r'[/.!$%^&#*+\\'\\\"()-.,:;<=>?@[\\]{}|]'"
   ]
  },
  {
   "cell_type": "code",
   "execution_count": 7,
   "metadata": {},
   "outputs": [],
   "source": [
    "df['name_description'] = df['name_description'].apply(lambda row: re.sub(pontuacao, ' ', row))"
   ]
  },
  {
   "cell_type": "markdown",
   "metadata": {},
   "source": [
    "## 3.3 Retirando caracteres numéricos"
   ]
  },
  {
   "cell_type": "code",
   "execution_count": 8,
   "metadata": {},
   "outputs": [],
   "source": [
    "numeros = r'[0-9]'"
   ]
  },
  {
   "cell_type": "code",
   "execution_count": 9,
   "metadata": {},
   "outputs": [],
   "source": [
    "df['name_description'] = df['name_description'].apply(lambda row: re.sub(numeros, ' ', row))"
   ]
  },
  {
   "cell_type": "markdown",
   "metadata": {},
   "source": [
    "## 3.4 Deixando o texto em letras minúsculas"
   ]
  },
  {
   "cell_type": "code",
   "execution_count": 10,
   "metadata": {},
   "outputs": [],
   "source": [
    "df['name_description'] = df['name_description'].apply(lambda row: row.lower())"
   ]
  },
  {
   "cell_type": "markdown",
   "metadata": {},
   "source": [
    "## 3.5 Retirando quaisquer acentuações"
   ]
  },
  {
   "cell_type": "code",
   "execution_count": 11,
   "metadata": {},
   "outputs": [],
   "source": [
    "df['name_description'] = df['name_description'].apply(lambda row: unidecode(row))"
   ]
  },
  {
   "cell_type": "markdown",
   "metadata": {},
   "source": [
    "## 3.6 Retirando caracteres especiais"
   ]
  },
  {
   "cell_type": "code",
   "execution_count": 12,
   "metadata": {},
   "outputs": [],
   "source": [
    "def remover_caracteres_especiais(texto):\n",
    "    # Substituir outros caracteres de escape Unicode, como \\uXXXX e \\UXXXXXXXX, por espaços em branco\n",
    "    texto_limpo = re.sub(r'\\\\[uU][0-9A-Fa-f]+', ' ', texto)\n",
    "    \n",
    "    # Remove caracteres na lista substituindo por espaços vazios\n",
    "    palavras = ['\\n', '\\t', '\\r', '\\f', '\\v']\n",
    "    for palavra in palavras:\n",
    "        texto_limpo = texto_limpo.replace(palavra, ' ')\n",
    "    \n",
    "    return texto_limpo"
   ]
  },
  {
   "cell_type": "code",
   "execution_count": 13,
   "metadata": {},
   "outputs": [],
   "source": [
    "df['name_description'] = df['name_description'].apply(lambda row: remover_caracteres_especiais(row))"
   ]
  },
  {
   "cell_type": "markdown",
   "metadata": {},
   "source": [
    "## 3.7 Retirando stopwords"
   ]
  },
  {
   "cell_type": "code",
   "execution_count": 14,
   "metadata": {},
   "outputs": [],
   "source": [
    "stopwords = nltk.corpus.stopwords.words('english')"
   ]
  },
  {
   "cell_type": "code",
   "execution_count": 15,
   "metadata": {},
   "outputs": [],
   "source": [
    "df['name_description'] = df['name_description'].apply(lambda row:' '.join([palavra for palavra in row.split() \n",
    "                                                                                     if len(palavra) >= 1 and \n",
    "                                                                                     palavra not in stopwords]))"
   ]
  },
  {
   "cell_type": "markdown",
   "metadata": {},
   "source": [
    "## 3.8 Retirando espaços extras"
   ]
  },
  {
   "cell_type": "code",
   "execution_count": 16,
   "metadata": {},
   "outputs": [],
   "source": [
    "def remover_espacos_extras(texto):\n",
    "    # O padrão \\s+ corresponde a um ou mais espaços em branco\n",
    "    # e o substitui por um único espaço\n",
    "    return re.sub(r'\\s+', ' ', texto).strip()\n",
    "\n",
    "df['name_description'] = df['name_description'].apply(lambda row: remover_espacos_extras(row))"
   ]
  },
  {
   "cell_type": "markdown",
   "metadata": {},
   "source": [
    "# 4. Aplicando técnicas"
   ]
  },
  {
   "cell_type": "markdown",
   "metadata": {},
   "source": [
    "## 4.1 BERTopic"
   ]
  },
  {
   "cell_type": "code",
   "execution_count": 17,
   "metadata": {},
   "outputs": [],
   "source": [
    "vectorizer = CountVectorizer(ngram_range=(1,2))"
   ]
  },
  {
   "cell_type": "code",
   "execution_count": 18,
   "metadata": {},
   "outputs": [],
   "source": [
    "textos = df['name_description'].to_list()"
   ]
  },
  {
   "cell_type": "code",
   "execution_count": 19,
   "metadata": {},
   "outputs": [],
   "source": [
    "model = BERTopic(\n",
    "    vectorizer_model=vectorizer, \n",
    "    language='english',\n",
    "    calculate_probabilities=True,\n",
    "    top_n_words=5,\n",
    "    min_topic_size=5,\n",
    "    verbose=True\n",
    ")"
   ]
  },
  {
   "cell_type": "code",
   "execution_count": 20,
   "metadata": {
    "scrolled": true
   },
   "outputs": [
    {
     "data": {
      "application/vnd.jupyter.widget-view+json": {
       "model_id": "252c482989604ec28bd4e8724407744a",
       "version_major": 2,
       "version_minor": 0
      },
      "text/plain": [
       "HBox(children=(HTML(value='Batches'), FloatProgress(value=0.0, max=666.0), HTML(value='')))"
      ]
     },
     "metadata": {},
     "output_type": "display_data"
    },
    {
     "name": "stderr",
     "output_type": "stream",
     "text": [
      "2024-01-13 17:26:58,515 - BERTopic - Transformed documents to Embeddings\n"
     ]
    },
    {
     "name": "stdout",
     "output_type": "stream",
     "text": [
      "\n"
     ]
    },
    {
     "name": "stderr",
     "output_type": "stream",
     "text": [
      "2024-01-13 17:27:22,374 - BERTopic - Reduced dimensionality\n",
      "2024-01-13 17:31:33,574 - BERTopic - Clustered reduced embeddings\n"
     ]
    }
   ],
   "source": [
    "topicos, probs = model.fit_transform(textos)"
   ]
  },
  {
   "cell_type": "markdown",
   "metadata": {},
   "source": [
    "## 4.2 Gravando tópicos e gerando df com principais palavras"
   ]
  },
  {
   "cell_type": "code",
   "execution_count": 21,
   "metadata": {},
   "outputs": [],
   "source": [
    "df['topicos']=topicos"
   ]
  },
  {
   "cell_type": "code",
   "execution_count": 22,
   "metadata": {},
   "outputs": [],
   "source": [
    "freq = model.get_topic_info()"
   ]
  },
  {
   "cell_type": "code",
   "execution_count": 35,
   "metadata": {},
   "outputs": [
    {
     "data": {
      "text/html": [
       "<div>\n",
       "<style scoped>\n",
       "    .dataframe tbody tr th:only-of-type {\n",
       "        vertical-align: middle;\n",
       "    }\n",
       "\n",
       "    .dataframe tbody tr th {\n",
       "        vertical-align: top;\n",
       "    }\n",
       "\n",
       "    .dataframe thead th {\n",
       "        text-align: right;\n",
       "    }\n",
       "</style>\n",
       "<table border=\"1\" class=\"dataframe\">\n",
       "  <thead>\n",
       "    <tr style=\"text-align: right;\">\n",
       "      <th></th>\n",
       "      <th>Topic</th>\n",
       "      <th>Count</th>\n",
       "      <th>Name</th>\n",
       "      <th>Representation</th>\n",
       "      <th>Representative_Docs</th>\n",
       "    </tr>\n",
       "  </thead>\n",
       "  <tbody>\n",
       "    <tr>\n",
       "      <th>0</th>\n",
       "      <td>-1</td>\n",
       "      <td>8750</td>\n",
       "      <td>-1_business_technology_data_marketing</td>\n",
       "      <td>[business, technology, data, marketing, software]</td>\n",
       "      <td>[technophile technophile specialises business ...</td>\n",
       "    </tr>\n",
       "    <tr>\n",
       "      <th>1</th>\n",
       "      <td>0</td>\n",
       "      <td>991</td>\n",
       "      <td>0_gold_exploration_mineral_mining</td>\n",
       "      <td>[gold, exploration, mineral, mining, resources]</td>\n",
       "      <td>[rokmaster resources corp rokmaster resources ...</td>\n",
       "    </tr>\n",
       "    <tr>\n",
       "      <th>2</th>\n",
       "      <td>1</td>\n",
       "      <td>393</td>\n",
       "      <td>1_students_teachers_student_learning</td>\n",
       "      <td>[students, teachers, student, learning, educat...</td>\n",
       "      <td>[campusmate inc today students forced rely tea...</td>\n",
       "    </tr>\n",
       "    <tr>\n",
       "      <th>3</th>\n",
       "      <td>2</td>\n",
       "      <td>340</td>\n",
       "      <td>2_food_restaurant_restaurants_meal</td>\n",
       "      <td>[food, restaurant, restaurants, meal, meals]</td>\n",
       "      <td>[skipthedishes skipthedishes one north america...</td>\n",
       "    </tr>\n",
       "    <tr>\n",
       "      <th>4</th>\n",
       "      <td>3</td>\n",
       "      <td>250</td>\n",
       "      <td>3_fashion_clothing_women_apparel</td>\n",
       "      <td>[fashion, clothing, women, apparel, men]</td>\n",
       "      <td>[bond enterprise bondanddeni com sell clothing...</td>\n",
       "    </tr>\n",
       "  </tbody>\n",
       "</table>\n",
       "</div>"
      ],
      "text/plain": [
       "   Topic  Count                                   Name  \\\n",
       "0     -1   8750  -1_business_technology_data_marketing   \n",
       "1      0    991      0_gold_exploration_mineral_mining   \n",
       "2      1    393   1_students_teachers_student_learning   \n",
       "3      2    340     2_food_restaurant_restaurants_meal   \n",
       "4      3    250       3_fashion_clothing_women_apparel   \n",
       "\n",
       "                                      Representation  \\\n",
       "0  [business, technology, data, marketing, software]   \n",
       "1    [gold, exploration, mineral, mining, resources]   \n",
       "2  [students, teachers, student, learning, educat...   \n",
       "3       [food, restaurant, restaurants, meal, meals]   \n",
       "4           [fashion, clothing, women, apparel, men]   \n",
       "\n",
       "                                 Representative_Docs  \n",
       "0  [technophile technophile specialises business ...  \n",
       "1  [rokmaster resources corp rokmaster resources ...  \n",
       "2  [campusmate inc today students forced rely tea...  \n",
       "3  [skipthedishes skipthedishes one north america...  \n",
       "4  [bond enterprise bondanddeni com sell clothing...  "
      ]
     },
     "execution_count": 35,
     "metadata": {},
     "output_type": "execute_result"
    }
   ],
   "source": [
    "freq.head()"
   ]
  },
  {
   "cell_type": "code",
   "execution_count": 36,
   "metadata": {
    "scrolled": true
   },
   "outputs": [
    {
     "data": {
      "text/plain": [
       "(410, 5)"
      ]
     },
     "execution_count": 36,
     "metadata": {},
     "output_type": "execute_result"
    }
   ],
   "source": [
    "freq.shape"
   ]
  },
  {
   "cell_type": "markdown",
   "metadata": {},
   "source": [
    "## 4.3 Tópicos relacionados ao assunto de interesse"
   ]
  },
  {
   "cell_type": "code",
   "execution_count": 25,
   "metadata": {},
   "outputs": [
    {
     "data": {
      "text/html": [
       "<div>\n",
       "<style scoped>\n",
       "    .dataframe tbody tr th:only-of-type {\n",
       "        vertical-align: middle;\n",
       "    }\n",
       "\n",
       "    .dataframe tbody tr th {\n",
       "        vertical-align: top;\n",
       "    }\n",
       "\n",
       "    .dataframe thead th {\n",
       "        text-align: right;\n",
       "    }\n",
       "</style>\n",
       "<table border=\"1\" class=\"dataframe\">\n",
       "  <thead>\n",
       "    <tr style=\"text-align: right;\">\n",
       "      <th></th>\n",
       "      <th>Topic</th>\n",
       "      <th>Count</th>\n",
       "      <th>Name</th>\n",
       "      <th>Representation</th>\n",
       "      <th>Representative_Docs</th>\n",
       "    </tr>\n",
       "  </thead>\n",
       "  <tbody>\n",
       "    <tr>\n",
       "      <th>73</th>\n",
       "      <td>72</td>\n",
       "      <td>40</td>\n",
       "      <td>72_water_wastewater_membrane_treatment</td>\n",
       "      <td>[water, wastewater, membrane, treatment, waste...</td>\n",
       "      <td>[aqua air waste r door water vending electroni...</td>\n",
       "    </tr>\n",
       "    <tr>\n",
       "      <th>133</th>\n",
       "      <td>132</td>\n",
       "      <td>21</td>\n",
       "      <td>132_energy_smart home_water_grid</td>\n",
       "      <td>[energy, smart home, water, grid, homebeaver]</td>\n",
       "      <td>[ubios ai ubios ai helps residential multi ten...</td>\n",
       "    </tr>\n",
       "    <tr>\n",
       "      <th>287</th>\n",
       "      <td>286</td>\n",
       "      <td>8</td>\n",
       "      <td>286_water_esplash_contaminants_detect</td>\n",
       "      <td>[water, esplash, contaminants, detect, fred]</td>\n",
       "      <td>[quantwave technologies quantwave integrates m...</td>\n",
       "    </tr>\n",
       "  </tbody>\n",
       "</table>\n",
       "</div>"
      ],
      "text/plain": [
       "     Topic  Count                                    Name  \\\n",
       "73      72     40  72_water_wastewater_membrane_treatment   \n",
       "133    132     21        132_energy_smart home_water_grid   \n",
       "287    286      8   286_water_esplash_contaminants_detect   \n",
       "\n",
       "                                        Representation  \\\n",
       "73   [water, wastewater, membrane, treatment, waste...   \n",
       "133      [energy, smart home, water, grid, homebeaver]   \n",
       "287       [water, esplash, contaminants, detect, fred]   \n",
       "\n",
       "                                   Representative_Docs  \n",
       "73   [aqua air waste r door water vending electroni...  \n",
       "133  [ubios ai ubios ai helps residential multi ten...  \n",
       "287  [quantwave technologies quantwave integrates m...  "
      ]
     },
     "execution_count": 25,
     "metadata": {},
     "output_type": "execute_result"
    }
   ],
   "source": [
    "freq[freq['Representation'].astype(str).str.contains('water')]"
   ]
  },
  {
   "cell_type": "code",
   "execution_count": 33,
   "metadata": {},
   "outputs": [
    {
     "data": {
      "text/plain": [
       "['water', 'esplash', 'contaminants', 'detect', 'fred']"
      ]
     },
     "execution_count": 33,
     "metadata": {},
     "output_type": "execute_result"
    }
   ],
   "source": [
    "freq['Representation'][287]"
   ]
  },
  {
   "cell_type": "code",
   "execution_count": 34,
   "metadata": {},
   "outputs": [],
   "source": [
    "# observação: os números dos tópicos variam ao rodar o algoritimo novamente.\n",
    "df_escopo = df[(df['topicos']==72)|(df['topicos']==286)]"
   ]
  },
  {
   "cell_type": "markdown",
   "metadata": {},
   "source": [
    "# 5. Análise exploratória das empresas no escopo"
   ]
  },
  {
   "cell_type": "markdown",
   "metadata": {},
   "source": [
    "## 5.1 Quantidade de empresas no escopo desejado"
   ]
  },
  {
   "cell_type": "code",
   "execution_count": 38,
   "metadata": {},
   "outputs": [
    {
     "name": "stdout",
     "output_type": "stream",
     "text": [
      "Sem fazer uma análise detalhada de cada empresa, temos 48 empresas dentro do escopo desejado\n"
     ]
    }
   ],
   "source": [
    "print(f'''Sem fazer uma análise detalhada de cada empresa, temos {df_escopo.shape[0]} empresas dentro do escopo desejado''')"
   ]
  },
  {
   "cell_type": "markdown",
   "metadata": {},
   "source": [
    "## 5.2 Analise da localidade subcountry"
   ]
  },
  {
   "cell_type": "code",
   "execution_count": 54,
   "metadata": {
    "scrolled": false
   },
   "outputs": [
    {
     "data": {
      "text/html": [
       "<div>\n",
       "<style scoped>\n",
       "    .dataframe tbody tr th:only-of-type {\n",
       "        vertical-align: middle;\n",
       "    }\n",
       "\n",
       "    .dataframe tbody tr th {\n",
       "        vertical-align: top;\n",
       "    }\n",
       "\n",
       "    .dataframe thead th {\n",
       "        text-align: right;\n",
       "    }\n",
       "</style>\n",
       "<table border=\"1\" class=\"dataframe\">\n",
       "  <thead>\n",
       "    <tr style=\"text-align: right;\">\n",
       "      <th></th>\n",
       "      <th>subcountry</th>\n",
       "      <th>quantidade</th>\n",
       "    </tr>\n",
       "  </thead>\n",
       "  <tbody>\n",
       "    <tr>\n",
       "      <th>0</th>\n",
       "      <td>ontario</td>\n",
       "      <td>28</td>\n",
       "    </tr>\n",
       "    <tr>\n",
       "      <th>1</th>\n",
       "      <td>alberta</td>\n",
       "      <td>11</td>\n",
       "    </tr>\n",
       "    <tr>\n",
       "      <th>2</th>\n",
       "      <td>british columbia</td>\n",
       "      <td>7</td>\n",
       "    </tr>\n",
       "    <tr>\n",
       "      <th>3</th>\n",
       "      <td>quebec</td>\n",
       "      <td>1</td>\n",
       "    </tr>\n",
       "    <tr>\n",
       "      <th>4</th>\n",
       "      <td>new brunswick</td>\n",
       "      <td>1</td>\n",
       "    </tr>\n",
       "  </tbody>\n",
       "</table>\n",
       "</div>"
      ],
      "text/plain": [
       "         subcountry  quantidade\n",
       "0           ontario          28\n",
       "1           alberta          11\n",
       "2  british columbia           7\n",
       "3            quebec           1\n",
       "4     new brunswick           1"
      ]
     },
     "execution_count": 54,
     "metadata": {},
     "output_type": "execute_result"
    }
   ],
   "source": [
    "df_escopo['subcountry'].value_counts().reset_index().rename(columns={'index': 'subcountry', 'subcountry': 'quantidade'})"
   ]
  },
  {
   "cell_type": "code",
   "execution_count": 62,
   "metadata": {},
   "outputs": [
    {
     "data": {
      "image/png": "[encoded data removed]",
      "text/plain": [
       "<Figure size 432x288 with 1 Axes>"
      ]
     },
     "metadata": {
      "needs_background": "light"
     },
     "output_type": "display_data"
    }
   ],
   "source": [
    "ax = sns.barplot(x='subcountry', \n",
    "                 y='quantidade', \n",
    "                 data=df_escopo['subcountry'].value_counts().reset_index().rename(columns={'index': 'subcountry', \n",
    "                                                                                           'subcountry': 'quantidade'})\n",
    "                )"
   ]
  },
  {
   "cell_type": "markdown",
   "metadata": {},
   "source": [
    "## 5.3 Analise da localidade city"
   ]
  },
  {
   "cell_type": "code",
   "execution_count": 63,
   "metadata": {
    "scrolled": true
   },
   "outputs": [
    {
     "data": {
      "text/html": [
       "<div>\n",
       "<style scoped>\n",
       "    .dataframe tbody tr th:only-of-type {\n",
       "        vertical-align: middle;\n",
       "    }\n",
       "\n",
       "    .dataframe tbody tr th {\n",
       "        vertical-align: top;\n",
       "    }\n",
       "\n",
       "    .dataframe thead th {\n",
       "        text-align: right;\n",
       "    }\n",
       "</style>\n",
       "<table border=\"1\" class=\"dataframe\">\n",
       "  <thead>\n",
       "    <tr style=\"text-align: right;\">\n",
       "      <th></th>\n",
       "      <th>city</th>\n",
       "      <th>quantidade</th>\n",
       "    </tr>\n",
       "  </thead>\n",
       "  <tbody>\n",
       "    <tr>\n",
       "      <th>0</th>\n",
       "      <td>toronto</td>\n",
       "      <td>25</td>\n",
       "    </tr>\n",
       "    <tr>\n",
       "      <th>1</th>\n",
       "      <td>calgary</td>\n",
       "      <td>11</td>\n",
       "    </tr>\n",
       "    <tr>\n",
       "      <th>2</th>\n",
       "      <td>vancouver</td>\n",
       "      <td>6</td>\n",
       "    </tr>\n",
       "    <tr>\n",
       "      <th>3</th>\n",
       "      <td>kelowna</td>\n",
       "      <td>1</td>\n",
       "    </tr>\n",
       "    <tr>\n",
       "      <th>4</th>\n",
       "      <td>kitchener</td>\n",
       "      <td>1</td>\n",
       "    </tr>\n",
       "    <tr>\n",
       "      <th>5</th>\n",
       "      <td>ottawa</td>\n",
       "      <td>1</td>\n",
       "    </tr>\n",
       "    <tr>\n",
       "      <th>6</th>\n",
       "      <td>waterloo</td>\n",
       "      <td>1</td>\n",
       "    </tr>\n",
       "    <tr>\n",
       "      <th>7</th>\n",
       "      <td>montreal</td>\n",
       "      <td>1</td>\n",
       "    </tr>\n",
       "    <tr>\n",
       "      <th>8</th>\n",
       "      <td>fredericton</td>\n",
       "      <td>1</td>\n",
       "    </tr>\n",
       "  </tbody>\n",
       "</table>\n",
       "</div>"
      ],
      "text/plain": [
       "          city  quantidade\n",
       "0      toronto          25\n",
       "1      calgary          11\n",
       "2    vancouver           6\n",
       "3      kelowna           1\n",
       "4    kitchener           1\n",
       "5       ottawa           1\n",
       "6     waterloo           1\n",
       "7     montreal           1\n",
       "8  fredericton           1"
      ]
     },
     "execution_count": 63,
     "metadata": {},
     "output_type": "execute_result"
    }
   ],
   "source": [
    "df_escopo['city'].value_counts().reset_index().rename(columns={'index': 'city', 'city': 'quantidade'})"
   ]
  },
  {
   "cell_type": "code",
   "execution_count": 65,
   "metadata": {},
   "outputs": [
    {
     "data": {
      "image/png": "[encoded data removed]",
      "text/plain": [
       "<Figure size 432x288 with 1 Axes>"
      ]
     },
     "metadata": {
      "needs_background": "light"
     },
     "output_type": "display_data"
    }
   ],
   "source": [
    "ax = sns.barplot(x='city', \n",
    "                 y='quantidade', \n",
    "                 data=df_escopo['city'].value_counts().reset_index().rename(columns={'index': 'city', \n",
    "                                                                                     'city': 'quantidade'}).head()\n",
    "                )"
   ]
  },
  {
   "cell_type": "markdown",
   "metadata": {},
   "source": [
    "## 5.4 Analise da quantidade de employees"
   ]
  },
  {
   "cell_type": "code",
   "execution_count": 69,
   "metadata": {
    "scrolled": true
   },
   "outputs": [
    {
     "data": {
      "text/html": [
       "<div>\n",
       "<style scoped>\n",
       "    .dataframe tbody tr th:only-of-type {\n",
       "        vertical-align: middle;\n",
       "    }\n",
       "\n",
       "    .dataframe tbody tr th {\n",
       "        vertical-align: top;\n",
       "    }\n",
       "\n",
       "    .dataframe thead th {\n",
       "        text-align: right;\n",
       "    }\n",
       "</style>\n",
       "<table border=\"1\" class=\"dataframe\">\n",
       "  <thead>\n",
       "    <tr style=\"text-align: right;\">\n",
       "      <th></th>\n",
       "      <th>employees</th>\n",
       "      <th>quantidade</th>\n",
       "    </tr>\n",
       "  </thead>\n",
       "  <tbody>\n",
       "    <tr>\n",
       "      <th>0</th>\n",
       "      <td>0</td>\n",
       "      <td>21</td>\n",
       "    </tr>\n",
       "    <tr>\n",
       "      <th>1</th>\n",
       "      <td>1</td>\n",
       "      <td>15</td>\n",
       "    </tr>\n",
       "    <tr>\n",
       "      <th>2</th>\n",
       "      <td>10</td>\n",
       "      <td>8</td>\n",
       "    </tr>\n",
       "    <tr>\n",
       "      <th>3</th>\n",
       "      <td>50</td>\n",
       "      <td>3</td>\n",
       "    </tr>\n",
       "    <tr>\n",
       "      <th>4</th>\n",
       "      <td>500</td>\n",
       "      <td>1</td>\n",
       "    </tr>\n",
       "  </tbody>\n",
       "</table>\n",
       "</div>"
      ],
      "text/plain": [
       "   employees  quantidade\n",
       "0          0          21\n",
       "1          1          15\n",
       "2         10           8\n",
       "3         50           3\n",
       "4        500           1"
      ]
     },
     "execution_count": 69,
     "metadata": {},
     "output_type": "execute_result"
    }
   ],
   "source": [
    "df_escopo['employees'].value_counts().reset_index().rename(columns={'index': 'employees', 'employees': 'quantidade'})"
   ]
  },
  {
   "cell_type": "code",
   "execution_count": 70,
   "metadata": {},
   "outputs": [
    {
     "data": {
      "image/png": "[encoded data removed]",
      "text/plain": [
       "<Figure size 432x288 with 1 Axes>"
      ]
     },
     "metadata": {
      "needs_background": "light"
     },
     "output_type": "display_data"
    }
   ],
   "source": [
    "ax = sns.barplot(x='employees', \n",
    "                 y='quantidade', \n",
    "                 data=df_escopo['employees'].value_counts().reset_index().rename(columns={'index': 'employees', \n",
    "                                                                                          'employees': 'quantidade'}).head()\n",
    "                )"
   ]
  },
  {
   "cell_type": "code",
   "execution_count": 71,
   "metadata": {
    "scrolled": true
   },
   "outputs": [
    {
     "name": "stdout",
     "output_type": "stream",
     "text": [
      "Pela informação que temos, 12 empresas das 48 tem 10 ou mais funcionarios. Sendo que 4 são empresas grandes com 50 ou mais funcionarios\n"
     ]
    }
   ],
   "source": [
    "print(f'''Pela informação que temos, {df_escopo[df_escopo['employees']>=10].shape[0]} empresas das {df_escopo.shape[0]} tem 10 ou mais funcionarios. Sendo que {df_escopo[df_escopo['employees']>=50].shape[0]} são empresas grandes com 50 ou mais funcionarios''')"
   ]
  },
  {
   "cell_type": "code",
   "execution_count": 85,
   "metadata": {},
   "outputs": [
    {
     "data": {
      "text/plain": [
       "toronto        7\n",
       "vancouver      2\n",
       "calgary        2\n",
       "fredericton    1\n",
       "Name: city, dtype: int64"
      ]
     },
     "execution_count": 85,
     "metadata": {},
     "output_type": "execute_result"
    }
   ],
   "source": [
    "df_escopo[df_escopo['employees']>=10]['city'].value_counts()"
   ]
  },
  {
   "cell_type": "code",
   "execution_count": 86,
   "metadata": {
    "scrolled": true
   },
   "outputs": [
    {
     "data": {
      "text/plain": [
       "toronto        2\n",
       "vancouver      1\n",
       "fredericton    1\n",
       "Name: city, dtype: int64"
      ]
     },
     "execution_count": 86,
     "metadata": {},
     "output_type": "execute_result"
    }
   ],
   "source": [
    "df_escopo[df_escopo['employees']>=50]['city'].value_counts()"
   ]
  },
  {
   "cell_type": "markdown",
   "metadata": {},
   "source": [
    "## 5.5 Analise do total funding"
   ]
  },
  {
   "cell_type": "code",
   "execution_count": 82,
   "metadata": {
    "scrolled": false
   },
   "outputs": [
    {
     "data": {
      "text/html": [
       "<div>\n",
       "<style scoped>\n",
       "    .dataframe tbody tr th:only-of-type {\n",
       "        vertical-align: middle;\n",
       "    }\n",
       "\n",
       "    .dataframe tbody tr th {\n",
       "        vertical-align: top;\n",
       "    }\n",
       "\n",
       "    .dataframe thead th {\n",
       "        text-align: right;\n",
       "    }\n",
       "</style>\n",
       "<table border=\"1\" class=\"dataframe\">\n",
       "  <thead>\n",
       "    <tr style=\"text-align: right;\">\n",
       "      <th></th>\n",
       "      <th>total_funding</th>\n",
       "      <th>quantidade</th>\n",
       "    </tr>\n",
       "  </thead>\n",
       "  <tbody>\n",
       "    <tr>\n",
       "      <th>0</th>\n",
       "      <td>NaN</td>\n",
       "      <td>37</td>\n",
       "    </tr>\n",
       "    <tr>\n",
       "      <th>1</th>\n",
       "      <td>-</td>\n",
       "      <td>4</td>\n",
       "    </tr>\n",
       "    <tr>\n",
       "      <th>2</th>\n",
       "      <td>6000000</td>\n",
       "      <td>1</td>\n",
       "    </tr>\n",
       "    <tr>\n",
       "      <th>3</th>\n",
       "      <td>1000000</td>\n",
       "      <td>1</td>\n",
       "    </tr>\n",
       "    <tr>\n",
       "      <th>4</th>\n",
       "      <td>63177</td>\n",
       "      <td>1</td>\n",
       "    </tr>\n",
       "    <tr>\n",
       "      <th>5</th>\n",
       "      <td>8200000</td>\n",
       "      <td>1</td>\n",
       "    </tr>\n",
       "    <tr>\n",
       "      <th>6</th>\n",
       "      <td>5034285</td>\n",
       "      <td>1</td>\n",
       "    </tr>\n",
       "    <tr>\n",
       "      <th>7</th>\n",
       "      <td>70000</td>\n",
       "      <td>1</td>\n",
       "    </tr>\n",
       "    <tr>\n",
       "      <th>8</th>\n",
       "      <td>690742</td>\n",
       "      <td>1</td>\n",
       "    </tr>\n",
       "  </tbody>\n",
       "</table>\n",
       "</div>"
      ],
      "text/plain": [
       "  total_funding  quantidade\n",
       "0           NaN          37\n",
       "1             -           4\n",
       "2       6000000           1\n",
       "3       1000000           1\n",
       "4         63177           1\n",
       "5       8200000           1\n",
       "6       5034285           1\n",
       "7         70000           1\n",
       "8        690742           1"
      ]
     },
     "execution_count": 82,
     "metadata": {},
     "output_type": "execute_result"
    }
   ],
   "source": [
    "df_escopo['total_funding'].value_counts(dropna=False).reset_index().rename(columns={'index': 'total_funding', 'total_funding': 'quantidade'})"
   ]
  },
  {
   "cell_type": "code",
   "execution_count": 80,
   "metadata": {},
   "outputs": [],
   "source": [
    "zero = df_escopo[(df_escopo['total_funding'].isna())|(df_escopo['total_funding']=='-')].shape[0]\n",
    "media = round(df_escopo[~((df_escopo['total_funding'].isna())|(df_escopo['total_funding']=='-'))]['total_funding'].mean(),0)\n",
    "minimo = round(df_escopo[~((df_escopo['total_funding'].isna())|(df_escopo['total_funding']=='-'))]['total_funding'].min(),0)\n",
    "maximo = round(df_escopo[~((df_escopo['total_funding'].isna())|(df_escopo['total_funding']=='-'))]['total_funding'].max(),0)"
   ]
  },
  {
   "cell_type": "code",
   "execution_count": 81,
   "metadata": {},
   "outputs": [
    {
     "name": "stdout",
     "output_type": "stream",
     "text": [
      "41 não tiveram funding ou não revelaram essa informação.\n",
      "Das empresas que tiveram funding tivemos uma média de $3008315.0, onde o menor foi de $63177 e o maior foi de $8200000\n"
     ]
    }
   ],
   "source": [
    "print(f'''{zero} não tiveram funding ou não revelaram essa informação.\n",
    "Das empresas que tiveram funding tivemos uma média de ${media}, onde o menor foi de ${minimo} e o maior foi de ${maximo}''')"
   ]
  },
  {
   "cell_type": "code",
   "execution_count": 88,
   "metadata": {},
   "outputs": [
    {
     "data": {
      "text/html": [
       "<div>\n",
       "<style scoped>\n",
       "    .dataframe tbody tr th:only-of-type {\n",
       "        vertical-align: middle;\n",
       "    }\n",
       "\n",
       "    .dataframe tbody tr th {\n",
       "        vertical-align: top;\n",
       "    }\n",
       "\n",
       "    .dataframe thead th {\n",
       "        text-align: right;\n",
       "    }\n",
       "</style>\n",
       "<table border=\"1\" class=\"dataframe\">\n",
       "  <thead>\n",
       "    <tr style=\"text-align: right;\">\n",
       "      <th></th>\n",
       "      <th>name</th>\n",
       "      <th>description</th>\n",
       "      <th>employees</th>\n",
       "      <th>total_funding</th>\n",
       "      <th>city</th>\n",
       "      <th>subcountry</th>\n",
       "      <th>lat</th>\n",
       "      <th>lng</th>\n",
       "      <th>name_description</th>\n",
       "      <th>topicos</th>\n",
       "    </tr>\n",
       "  </thead>\n",
       "  <tbody>\n",
       "    <tr>\n",
       "      <th>12614</th>\n",
       "      <td>imtex membranes</td>\n",
       "      <td>imtex membranes corp, is a leading innovator o...</td>\n",
       "      <td>10</td>\n",
       "      <td>6000000</td>\n",
       "      <td>toronto</td>\n",
       "      <td>ontario</td>\n",
       "      <td>43.70011</td>\n",
       "      <td>-79.41630</td>\n",
       "      <td>imtex membranes imtex membranes corp leading i...</td>\n",
       "      <td>72</td>\n",
       "    </tr>\n",
       "    <tr>\n",
       "      <th>12892</th>\n",
       "      <td>saltworks technologies</td>\n",
       "      <td>saltworks technologies treats the toughest wat...</td>\n",
       "      <td>50</td>\n",
       "      <td>1000000</td>\n",
       "      <td>vancouver</td>\n",
       "      <td>british columbia</td>\n",
       "      <td>49.24966</td>\n",
       "      <td>-123.11934</td>\n",
       "      <td>saltworks technologies saltworks technologies ...</td>\n",
       "      <td>72</td>\n",
       "    </tr>\n",
       "    <tr>\n",
       "      <th>13723</th>\n",
       "      <td>xogen technologies</td>\n",
       "      <td>xogen technologies inc, is a privately-held ca...</td>\n",
       "      <td>10</td>\n",
       "      <td>63177</td>\n",
       "      <td>toronto</td>\n",
       "      <td>ontario</td>\n",
       "      <td>43.70011</td>\n",
       "      <td>-79.41630</td>\n",
       "      <td>xogen technologies xogen technologies inc priv...</td>\n",
       "      <td>72</td>\n",
       "    </tr>\n",
       "    <tr>\n",
       "      <th>16699</th>\n",
       "      <td>purlucid treatment solutions</td>\n",
       "      <td>purlucid treatment solutions is a cutting-edge...</td>\n",
       "      <td>0</td>\n",
       "      <td>8200000</td>\n",
       "      <td>calgary</td>\n",
       "      <td>alberta</td>\n",
       "      <td>51.05011</td>\n",
       "      <td>-114.08529</td>\n",
       "      <td>purlucid treatment solutions purlucid treatmen...</td>\n",
       "      <td>72</td>\n",
       "    </tr>\n",
       "    <tr>\n",
       "      <th>17864</th>\n",
       "      <td>acuva technologies</td>\n",
       "      <td>acuva technologies is developing ultraviolet l...</td>\n",
       "      <td>1</td>\n",
       "      <td>5034285</td>\n",
       "      <td>vancouver</td>\n",
       "      <td>british columbia</td>\n",
       "      <td>49.24966</td>\n",
       "      <td>-123.11934</td>\n",
       "      <td>acuva technologies acuva technologies developi...</td>\n",
       "      <td>72</td>\n",
       "    </tr>\n",
       "    <tr>\n",
       "      <th>18317</th>\n",
       "      <td>water zone technologies</td>\n",
       "      <td>our vision is to create a cost effective; tech...</td>\n",
       "      <td>1</td>\n",
       "      <td>70000</td>\n",
       "      <td>vancouver</td>\n",
       "      <td>british columbia</td>\n",
       "      <td>49.24966</td>\n",
       "      <td>-123.11934</td>\n",
       "      <td>water zone technologies vision create cost eff...</td>\n",
       "      <td>72</td>\n",
       "    </tr>\n",
       "    <tr>\n",
       "      <th>18576</th>\n",
       "      <td>island water technologies</td>\n",
       "      <td>island water technologies inc, is a prince edw...</td>\n",
       "      <td>1</td>\n",
       "      <td>690742</td>\n",
       "      <td>toronto</td>\n",
       "      <td>ontario</td>\n",
       "      <td>43.70011</td>\n",
       "      <td>-79.41630</td>\n",
       "      <td>island water technologies island water technol...</td>\n",
       "      <td>72</td>\n",
       "    </tr>\n",
       "  </tbody>\n",
       "</table>\n",
       "</div>"
      ],
      "text/plain": [
       "                               name  \\\n",
       "12614               imtex membranes   \n",
       "12892        saltworks technologies   \n",
       "13723            xogen technologies   \n",
       "16699  purlucid treatment solutions   \n",
       "17864            acuva technologies   \n",
       "18317       water zone technologies   \n",
       "18576     island water technologies   \n",
       "\n",
       "                                             description  employees  \\\n",
       "12614  imtex membranes corp, is a leading innovator o...         10   \n",
       "12892  saltworks technologies treats the toughest wat...         50   \n",
       "13723  xogen technologies inc, is a privately-held ca...         10   \n",
       "16699  purlucid treatment solutions is a cutting-edge...          0   \n",
       "17864  acuva technologies is developing ultraviolet l...          1   \n",
       "18317  our vision is to create a cost effective; tech...          1   \n",
       "18576  island water technologies inc, is a prince edw...          1   \n",
       "\n",
       "      total_funding       city        subcountry       lat        lng  \\\n",
       "12614       6000000    toronto           ontario  43.70011  -79.41630   \n",
       "12892       1000000  vancouver  british columbia  49.24966 -123.11934   \n",
       "13723         63177    toronto           ontario  43.70011  -79.41630   \n",
       "16699       8200000    calgary           alberta  51.05011 -114.08529   \n",
       "17864       5034285  vancouver  british columbia  49.24966 -123.11934   \n",
       "18317         70000  vancouver  british columbia  49.24966 -123.11934   \n",
       "18576        690742    toronto           ontario  43.70011  -79.41630   \n",
       "\n",
       "                                        name_description  topicos  \n",
       "12614  imtex membranes imtex membranes corp leading i...       72  \n",
       "12892  saltworks technologies saltworks technologies ...       72  \n",
       "13723  xogen technologies xogen technologies inc priv...       72  \n",
       "16699  purlucid treatment solutions purlucid treatmen...       72  \n",
       "17864  acuva technologies acuva technologies developi...       72  \n",
       "18317  water zone technologies vision create cost eff...       72  \n",
       "18576  island water technologies island water technol...       72  "
      ]
     },
     "execution_count": 88,
     "metadata": {},
     "output_type": "execute_result"
    }
   ],
   "source": [
    "df_escopo[~((df_escopo['total_funding'].isna())|(df_escopo['total_funding']=='-'))]"
   ]
  },
  {
   "cell_type": "code",
   "execution_count": null,
   "metadata": {},
   "outputs": [],
   "source": []
  }
 ],
 "metadata": {
  "kernelspec": {
   "display_name": "Python 3",
   "language": "python",
   "name": "python3"
  },
  "language_info": {
   "codemirror_mode": {
    "name": "ipython",
    "version": 3
   },
   "file_extension": ".py",
   "mimetype": "text/x-python",
   "name": "python",
   "nbconvert_exporter": "python",
   "pygments_lexer": "ipython3",
   "version": "3.8.5"
  }
 },
 "nbformat": 4,
 "nbformat_minor": 4
}
